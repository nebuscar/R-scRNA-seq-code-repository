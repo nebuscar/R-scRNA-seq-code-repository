











import numpy as np
import pandas as pd
import anndata as ad
from scipy.sparse import csr_matrix
print(ad.__version__)








counts = csr_matrix(np.random.poisson(1, size=(100, 2000)), dtype=np.float32)
adata = ad.AnnData(counts)
adata


adata.to_df()





adata.X





adata.obs_names = [f"Cell_{i:d}" for i in range(adata.n_obs)]
adata.var_names = [f"Gene_{i:d}" for i in range(adata.n_vars)]
print(adata.obs_names[:10])
print(adata.var_names[:10])








adata[["Cell_1", "Cell_10"], ["Gene_5", "Gene_1900"]]








ct = np.random.choice(["B", "T", "Monocyte"], size=(adata.n_obs,))
adata.obs["cell_type"] = pd.Categorical(ct)  # Categoricals are preferred for efficiency
adata.obs





adata








bdata = adata[adata.obs.cell_type == "B"]
bdata








adata.obsm["X_umap"] = np.random.normal(0, 1, size=(adata.n_obs, 2))
adata.varm["gene_stuff"] = np.random.normal(0, 1, size=(adata.n_vars, 5))
adata.obsm





adata











adata.uns["random"] = [1, 2, 3]
adata.uns








adata.layers["log_transformed"] = np.log1p(adata.X)
adata








adata.to_df(layer="log_transformed")











adata.write('my_results.h5ad', compression="gzip")


!h5ls 'my_results.h5ad'














obs_meta = pd.DataFrame({
        'time_yr': np.random.choice([0, 2, 4, 8], adata.n_obs),
        'subject_id': np.random.choice(['subject 1', 'subject 2', 'subject 4', 'subject 8'], adata.n_obs),
        'instrument_type': np.random.choice(['type a', 'type b'], adata.n_obs),
        'site': np.random.choice(['site x', 'site y'], adata.n_obs),
    },
    index=adata.obs.index,    # these are the same IDs of observations as above!
)





adata = ad.AnnData(adata.X, obs=obs_meta, var=adata.var)





print(adata)








adata








adata[:5, ['Gene_1', 'Gene_3']]





adata_subset = adata[:5, ['Gene_1', 'Gene_3']].copy()





print(adata[:3, 'Gene_1'].X.toarray().tolist())
adata[:3, 'Gene_1'].X = [0, 0, 0]
print(adata[:3, 'Gene_1'].X.toarray().tolist())





adata_subset = adata[:3, ['Gene_1', 'Gene_2']]


adata_subset


adata_subset.obs['foo'] = range(3)





adata_subset





adata[adata.obs.time_yr.isin([2, 4])].obs.head()








adata = ad.read('my_results.h5ad', backed='r')


adata.isbacked





adata.filename





adata.file.close()






