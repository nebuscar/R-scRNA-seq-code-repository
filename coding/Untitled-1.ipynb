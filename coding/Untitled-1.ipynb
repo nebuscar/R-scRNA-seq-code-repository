{
 "cells": [
  {
   "cell_type": "code",
   "execution_count": 10,
   "metadata": {},
   "outputs": [
    {
     "ename": "ModuleNotFoundError",
     "evalue": "No module named 'bbknn'",
     "output_type": "error",
     "traceback": [
      "\u001b[1;31m---------------------------------------------------------------------------\u001b[0m",
      "\u001b[1;31mModuleNotFoundError\u001b[0m                       Traceback (most recent call last)",
      "Cell \u001b[1;32mIn[10], line 7\u001b[0m\n\u001b[0;32m      5\u001b[0m \u001b[38;5;28;01mimport\u001b[39;00m \u001b[38;5;21;01mos\u001b[39;00m\n\u001b[0;32m      6\u001b[0m \u001b[38;5;28;01mimport\u001b[39;00m \u001b[38;5;21;01manndata\u001b[39;00m \u001b[38;5;28;01mas\u001b[39;00m \u001b[38;5;21;01mann\u001b[39;00m\n\u001b[1;32m----> 7\u001b[0m \u001b[38;5;28;01mimport\u001b[39;00m \u001b[38;5;21;01mbbknn\u001b[39;00m\n",
      "\u001b[1;31mModuleNotFoundError\u001b[0m: No module named 'bbknn'"
     ]
    }
   ],
   "source": [
    "!pip install bbknn"
   ]
  },
  {
   "cell_type": "code",
   "execution_count": null,
   "metadata": {},
   "outputs": [
    {
     "name": "stdout",
     "output_type": "stream",
     "text": [
      "Collecting bbknn\n",
      "  Using cached bbknn-1.6.0-py3-none-any.whl.metadata (8.2 kB)\n",
      "Collecting Cython (from bbknn)\n",
      "  Using cached Cython-3.0.10-cp311-cp311-win_amd64.whl.metadata (3.2 kB)\n",
      "Requirement already satisfied: scipy>=1.6.0 in e:\\software\\anaconda3\\lib\\site-packages (from bbknn) (1.11.4)\n",
      "Requirement already satisfied: numpy in e:\\software\\anaconda3\\lib\\site-packages (from bbknn) (1.26.4)\n",
      "Requirement already satisfied: pandas in e:\\software\\anaconda3\\lib\\site-packages (from bbknn) (2.1.4)\n",
      "Collecting annoy (from bbknn)\n",
      "  Using cached annoy-1.17.3.tar.gz (647 kB)\n",
      "  Preparing metadata (setup.py): started\n",
      "  Preparing metadata (setup.py): finished with status 'done'\n",
      "Requirement already satisfied: pynndescent in e:\\software\\anaconda3\\lib\\site-packages (from bbknn) (0.5.12)\n",
      "Requirement already satisfied: umap-learn in e:\\software\\anaconda3\\lib\\site-packages (from bbknn) (0.5.6)\n",
      "Requirement already satisfied: scikit-learn>=1.0.2 in e:\\software\\anaconda3\\lib\\site-packages (from bbknn) (1.2.2)\n",
      "Requirement already satisfied: joblib>=1.1.1 in e:\\software\\anaconda3\\lib\\site-packages (from scikit-learn>=1.0.2->bbknn) (1.4.0)\n",
      "Requirement already satisfied: threadpoolctl>=2.0.0 in e:\\software\\anaconda3\\lib\\site-packages (from scikit-learn>=1.0.2->bbknn) (2.2.0)\n",
      "Requirement already satisfied: python-dateutil>=2.8.2 in e:\\software\\anaconda3\\lib\\site-packages (from pandas->bbknn) (2.8.2)\n",
      "Requirement already satisfied: pytz>=2020.1 in e:\\software\\anaconda3\\lib\\site-packages (from pandas->bbknn) (2023.3.post1)\n",
      "Requirement already satisfied: tzdata>=2022.1 in e:\\software\\anaconda3\\lib\\site-packages (from pandas->bbknn) (2023.3)\n",
      "Requirement already satisfied: numba>=0.51.2 in e:\\software\\anaconda3\\lib\\site-packages (from pynndescent->bbknn) (0.59.0)\n",
      "Requirement already satisfied: llvmlite>=0.30 in e:\\software\\anaconda3\\lib\\site-packages (from pynndescent->bbknn) (0.42.0)\n",
      "Requirement already satisfied: tqdm in e:\\software\\anaconda3\\lib\\site-packages (from umap-learn->bbknn) (4.65.0)\n",
      "Requirement already satisfied: six>=1.5 in e:\\software\\anaconda3\\lib\\site-packages (from python-dateutil>=2.8.2->pandas->bbknn) (1.16.0)\n",
      "Requirement already satisfied: colorama in e:\\software\\anaconda3\\lib\\site-packages (from tqdm->umap-learn->bbknn) (0.4.6)\n",
      "Using cached bbknn-1.6.0-py3-none-any.whl (14 kB)\n",
      "Using cached Cython-3.0.10-cp311-cp311-win_amd64.whl (2.8 MB)\n",
      "Building wheels for collected packages: annoy\n",
      "  Building wheel for annoy (setup.py): started\n",
      "  Building wheel for annoy (setup.py): finished with status 'error'\n",
      "  Running setup.py clean for annoy\n",
      "Failed to build annoy\n"
     ]
    },
    {
     "name": "stderr",
     "output_type": "stream",
     "text": [
      "'DOSKEY' �����ڲ����ⲿ���Ҳ���ǿ����еĳ���\n",
      "���������ļ���\n",
      "  error: subprocess-exited-with-error\n",
      "  \n",
      "  × python setup.py bdist_wheel did not run successfully.\n",
      "  │ exit code: 1\n",
      "  ╰─> [22 lines of output]\n",
      "      E:\\software\\anaconda3\\Lib\\site-packages\\setuptools\\__init__.py:80: _DeprecatedInstaller: setuptools.installer and fetch_build_eggs are deprecated.\n",
      "      !!\n",
      "      \n",
      "              ********************************************************************************\n",
      "              Requirements should be satisfied by a PEP 517 installer.\n",
      "              If you are using pip, you can try `pip install --use-pep517`.\n",
      "              ********************************************************************************\n",
      "      \n",
      "      !!\n",
      "        dist.fetch_build_eggs(dist.setup_requires)\n",
      "      running bdist_wheel\n",
      "      running build\n",
      "      running build_py\n",
      "      creating build\n",
      "      creating build\\lib.win-amd64-cpython-311\n",
      "      creating build\\lib.win-amd64-cpython-311\\annoy\n",
      "      copying annoy\\__init__.py -> build\\lib.win-amd64-cpython-311\\annoy\n",
      "      copying annoy\\__init__.pyi -> build\\lib.win-amd64-cpython-311\\annoy\n",
      "      copying annoy\\py.typed -> build\\lib.win-amd64-cpython-311\\annoy\n",
      "      running build_ext\n",
      "      building 'annoy.annoylib' extension\n",
      "      error: Microsoft Visual C++ 14.0 or greater is required. Get it with \"Microsoft C++ Build Tools\": https://visualstudio.microsoft.com/visual-cpp-build-tools/\n",
      "      [end of output]\n",
      "  \n",
      "  note: This error originates from a subprocess, and is likely not a problem with pip.\n",
      "  ERROR: Failed building wheel for annoy\n",
      "ERROR: Could not build wheels for annoy, which is required to install pyproject.toml-based projects\n"
     ]
    }
   ],
   "source": [
    "import pandas as pd\n",
    "import numpy as np\n",
    "import scanpy as sc\n",
    "from collections import Counter\n",
    "import os\n",
    "import anndata as ann\n",
    "import bbknn"
   ]
  }
 ],
 "metadata": {
  "kernelspec": {
   "display_name": "base",
   "language": "python",
   "name": "python3"
  },
  "language_info": {
   "codemirror_mode": {
    "name": "ipython",
    "version": 3
   },
   "file_extension": ".py",
   "mimetype": "text/x-python",
   "name": "python",
   "nbconvert_exporter": "python",
   "pygments_lexer": "ipython3",
   "version": "3.11.9"
  }
 },
 "nbformat": 4,
 "nbformat_minor": 2
}
